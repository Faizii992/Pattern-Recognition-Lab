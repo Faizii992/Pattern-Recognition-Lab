{
 "cells": [
  {
   "cell_type": "markdown",
   "metadata": {},
   "source": [
    "# Importing Necessary Dependencies(Libraries)"
   ]
  },
  {
   "cell_type": "code",
   "execution_count": 16,
   "metadata": {},
   "outputs": [],
   "source": [
    "import matplotlib.pyplot as plt\n",
    "import pandas as pd\n",
    "import numpy as np\n",
    "import csv"
   ]
  },
  {
   "cell_type": "markdown",
   "metadata": {},
   "source": [
    "# Task 1\n",
    " Take input from “train.txt” file. Plot all sample points from both classes, but samples from the same class should have the same color and marker. Observe if these two classes can be separated with a linear boundary.\n"
   ]
  },
  {
   "cell_type": "markdown",
   "metadata": {},
   "source": [
    "### Importing Training samples from file"
   ]
  },
  {
   "cell_type": "code",
   "execution_count": 17,
   "metadata": {},
   "outputs": [
    {
     "name": "stdout",
     "output_type": "stream",
     "text": [
      "Numeric Visualization of Training Set: \n",
      "   0  1\n",
      "0  0  1\n",
      "1 -1  2\n",
      "2  1  2\n"
     ]
    }
   ],
   "source": [
    "training_set = []\n",
    "training_set = pd.read_csv('ass2exp2sirs.txt',sep=\" \",header = None)\n",
    "print('Numeric Visualization of Training Set: ')\n",
    "print(training_set)\n",
    "training_set=training_set.to_numpy()"
   ]
  },
  {
   "cell_type": "markdown",
   "metadata": {},
   "source": [
    "### First and Second Class separation and display"
   ]
  },
  {
   "cell_type": "code",
   "execution_count": 18,
   "metadata": {},
   "outputs": [],
   "source": [
    "x = []\n",
    "y = []\n",
    "for train in training_set:\n",
    "    if train[1]==1:\n",
    "        x.append([train[0]])\n",
    "    elif train[1]==2:\n",
    "        y.append([train[0]])\n",
    "first_class = np.array(x)\n",
    "second_class = np.array(y)"
   ]
  },
  {
   "cell_type": "code",
   "execution_count": 19,
   "metadata": {},
   "outputs": [
    {
     "data": {
      "image/png": "[encoded data removed]",
      "text/plain": [
       "<Figure size 576x288 with 1 Axes>"
      ]
     },
     "metadata": {
      "needs_background": "light"
     },
     "output_type": "display_data"
    }
   ],
   "source": [
    "plt.rcParams[\"figure.figsize\"] = (8,4)\n",
    "plt.plot(first_class[:,0:1],first_class[:, 0:], linestyle = '', marker='*', color='r', label =\"Train Class 1\")\n",
    "plt.plot(second_class[:,0:1],second_class[:, 0:], linestyle = '', marker = 'o', color = 'g', label =\"Train Class 2\")\n",
    "plt.legend()\n",
    "plt.show()"
   ]
  },
  {
   "cell_type": "code",
   "execution_count": null,
   "metadata": {},
   "outputs": [],
   "source": []
  },
  {
   "cell_type": "markdown",
   "metadata": {},
   "source": [
    "##### The two classes can't be separated by a linear decision boundary. It needs a higher dimension separator"
   ]
  },
  {
   "cell_type": "markdown",
   "metadata": {},
   "source": [
    "# Task 2 \n",
    "Consider the case of a second order polynomial discriminant function. Generate the high dimensional sample points y, as discussed in the class using the formula mentioned in the question."
   ]
  },
  {
   "cell_type": "code",
   "execution_count": 20,
   "metadata": {},
   "outputs": [],
   "source": [
    "y = []"
   ]
  },
  {
   "cell_type": "code",
   "execution_count": 21,
   "metadata": {},
   "outputs": [],
   "source": [
    "a=[]\n",
    "b=[]\n",
    "for i in range(len(first_class)):\n",
    "    y.append([first_class[i][0]*first_class[i][0],first_class[i][0],1])\n",
    "    \n",
    "for i in range(len(second_class)):\n",
    "    y.append([-second_class[i][0]*second_class[i][0], -second_class[i][0], -1])\n",
    "        \n",
    "y=np.array(y)\n"
   ]
  },
  {
   "cell_type": "code",
   "execution_count": 22,
   "metadata": {},
   "outputs": [
    {
     "name": "stdout",
     "output_type": "stream",
     "text": [
      "[[ 0  0  1]\n",
      " [-1  1 -1]\n",
      " [-1 -1 -1]]\n"
     ]
    }
   ],
   "source": [
    "print(y)"
   ]
  },
  {
   "cell_type": "markdown",
   "metadata": {},
   "source": [
    "# Task 3\n",
    "Use Perceptron Algorithm (both one at a time and many at a time) for finding the weight-\n",
    "coefficients of the discriminant function (i.e., values of w) boundary for your linear classifier in task 2.\n",
    "Here α is the learning rate and 0 < α ≤ 1."
   ]
  },
  {
   "cell_type": "markdown",
   "metadata": {},
   "source": [
    "### One at A Time"
   ]
  },
  {
   "cell_type": "code",
   "execution_count": 31,
   "metadata": {},
   "outputs": [
    {
     "name": "stdout",
     "output_type": "stream",
     "text": [
      "[[1. 1. 1.]]\n",
      "-------------------------------------------------------------------------------------\n",
      "y \t\t\t\t\t\t W \t\t\t\t\t  WTy\n",
      "\t\t\t\t\t  ''\n",
      "\t\t\t\t\t\t\t\t\t\t\t\t\t\t [1.]\n",
      "[-1  1 -1]\n",
      "\t\t\t\t\t   [[0. 2. 0.]]\n",
      "\t\t\t\t\t\t\t\t\t\t\t\t\t\t [-1.]\n",
      "[-1 -1 -1]\n",
      "\t\t\t\t\t   [[-1.  1. -1.]]\n",
      "\t\t\t\t\t\t\t\t\t\t\t\t\t\t [-2.]\n",
      "-------------------------------------------------------------------------------------\n",
      "y \t\t\t\t\t\t W \t\t\t\t\t  WTy\n",
      "[0 0 1]\n",
      "\t\t\t\t\t   [[-1.  1.  0.]]\n",
      "\t\t\t\t\t\t\t\t\t\t\t\t\t\t [-1.]\n",
      "\t\t\t\t\t  ''\n",
      "\t\t\t\t\t\t\t\t\t\t\t\t\t\t [2.]\n",
      "[-1 -1 -1]\n",
      "\t\t\t\t\t   [[-2.  0. -1.]]\n",
      "\t\t\t\t\t\t\t\t\t\t\t\t\t\t [0.]\n",
      "-------------------------------------------------------------------------------------\n",
      "y \t\t\t\t\t\t W \t\t\t\t\t  WTy\n",
      "[0 0 1]\n",
      "\t\t\t\t\t   [[-2.  0.  0.]]\n",
      "\t\t\t\t\t\t\t\t\t\t\t\t\t\t [-1.]\n",
      "\t\t\t\t\t  ''\n",
      "\t\t\t\t\t\t\t\t\t\t\t\t\t\t [2.]\n",
      "\t\t\t\t\t  ''\n",
      "\t\t\t\t\t\t\t\t\t\t\t\t\t\t [2.]\n",
      "-------------------------------------------------------------------------------------\n",
      "y \t\t\t\t\t\t W \t\t\t\t\t  WTy\n",
      "[0 0 1]\n",
      "\t\t\t\t\t   [[-2.  0.  1.]]\n",
      "\t\t\t\t\t\t\t\t\t\t\t\t\t\t [0.]\n",
      "\t\t\t\t\t  ''\n",
      "\t\t\t\t\t\t\t\t\t\t\t\t\t\t [1.]\n",
      "\t\t\t\t\t  ''\n",
      "\t\t\t\t\t\t\t\t\t\t\t\t\t\t [1.]\n",
      "-------------------------------------------------------------------------------------\n",
      "y \t\t\t\t\t\t W \t\t\t\t\t  WTy\n",
      "\t\t\t\t\t  ''\n",
      "\t\t\t\t\t\t\t\t\t\t\t\t\t\t [1.]\n",
      "\t\t\t\t\t  ''\n",
      "\t\t\t\t\t\t\t\t\t\t\t\t\t\t [1.]\n",
      "\t\t\t\t\t  ''\n",
      "\t\t\t\t\t\t\t\t\t\t\t\t\t\t [1.]\n"
     ]
    }
   ],
   "source": [
    "for i in range(1):\n",
    "    w = np.ones((1,len(training_set)))\n",
    "    print(w)\n",
    "    alpha = 1\n",
    "    flag = 0\n",
    "    counter = 0\n",
    "    g = 0\n",
    "    for i in range(250):\n",
    "        print('-------------------------------------------------------------------------------------')\n",
    "        print(\"y \\t\\t\\t\\t\\t\\t W \\t\\t\\t\\t\\t  WTy\")\n",
    "        counter = counter+1\n",
    "        flag = 0\n",
    "        for i in range(len(training_set)):\n",
    "            g = np.dot(y[i],w.T)\n",
    "            if g<=0:\n",
    "                w = w+alpha*y[i, :]\n",
    "                print(y[i,:])\n",
    "                print(\"\\t\\t\\t\\t\\t  \",w)\n",
    "            else:\n",
    "                flag = flag+1\n",
    "                print(\"\\t\\t\\t\\t\\t  ''\")\n",
    "            print(\"\\t\\t\\t\\t\\t\\t\\t\\t\\t\\t\\t\\t\\t\\t\",g)     \n",
    "        if flag==len(training_set):\n",
    "            break\n",
    "\n"
   ]
  },
  {
   "cell_type": "markdown",
   "metadata": {},
   "source": [
    "### Many at A Time LIKE SIR's MATH"
   ]
  },
  {
   "cell_type": "code",
   "execution_count": 32,
   "metadata": {},
   "outputs": [
    {
     "name": "stdout",
     "output_type": "stream",
     "text": [
      "-------------------------------------------------------------------------------------\n",
      "y \t\t\t\t\t\t W \t\t\t\t\t  WTy\n",
      "[0 0 1]\n",
      "\t\t\t\t\t\t\t\t\t\t\t\t\t\t [0.]\n",
      "[-1  1 -1]\n",
      "\t\t\t\t\t\t\t\t\t\t\t\t\t\t [0.]\n",
      "[-1 -1 -1]\n",
      "\t\t\t\t\t\t\t\t\t\t\t\t\t\t [0.]\n",
      "\t\t\t\t\t   [[-2.  0. -1.]]\n",
      "-------------------------------------------------------------------------------------\n",
      "y \t\t\t\t\t\t W \t\t\t\t\t  WTy\n",
      "[0 0 1]\n",
      "\t\t\t\t\t\t\t\t\t\t\t\t\t\t [-1.]\n",
      "[-1  1 -1]\n",
      "\t\t\t\t\t\t\t\t\t\t\t\t\t\t [3.]\n",
      "[-1 -1 -1]\n",
      "\t\t\t\t\t\t\t\t\t\t\t\t\t\t [3.]\n",
      "\t\t\t\t\t   [[-2.  0.  0.]]\n",
      "-------------------------------------------------------------------------------------\n",
      "y \t\t\t\t\t\t W \t\t\t\t\t  WTy\n",
      "[0 0 1]\n",
      "\t\t\t\t\t\t\t\t\t\t\t\t\t\t [0.]\n",
      "[-1  1 -1]\n",
      "\t\t\t\t\t\t\t\t\t\t\t\t\t\t [2.]\n",
      "[-1 -1 -1]\n",
      "\t\t\t\t\t\t\t\t\t\t\t\t\t\t [2.]\n",
      "\t\t\t\t\t   [[-2.  0.  1.]]\n",
      "-------------------------------------------------------------------------------------\n",
      "y \t\t\t\t\t\t W \t\t\t\t\t  WTy\n",
      "[0 0 1]\n",
      "\t\t\t\t\t\t\t\t\t\t\t\t\t\t [1.]\n",
      "[-1  1 -1]\n",
      "\t\t\t\t\t\t\t\t\t\t\t\t\t\t [1.]\n",
      "[-1 -1 -1]\n",
      "\t\t\t\t\t\t\t\t\t\t\t\t\t\t [1.]\n"
     ]
    }
   ],
   "source": [
    "w2 = np.zeros((1, len(training_set)))\n",
    "alpha2 = 1\n",
    "flag2 = 0\n",
    "counter2 = 0\n",
    "tmp = 0\n",
    "g2 = 0\n",
    "for i in range(200):\n",
    "    print('-------------------------------------------------------------------------------------')\n",
    "    print(\"y \\t\\t\\t\\t\\t\\t W \\t\\t\\t\\t\\t  WTy\")\n",
    "    counter2 = counter2+1\n",
    "    flag2 = 0\n",
    "    tmp = 0\n",
    "    for i in range(len(training_set)):\n",
    "      \n",
    "        print(y[i,:])\n",
    "        g2 = np.dot(y[i, :], w2.T)\n",
    "        if g2<=0:\n",
    "            tmp = tmp + y[i, :]\n",
    "        else:\n",
    "            flag2 = flag2+1\n",
    "        print(\"\\t\\t\\t\\t\\t\\t\\t\\t\\t\\t\\t\\t\\t\\t\",g2)    \n",
    "    if flag2==len(training_set):\n",
    "        break\n",
    "    w2 = w2+alpha2*tmp\n",
    "    print(\"\\t\\t\\t\\t\\t  \",w2)\n"
   ]
  },
  {
   "cell_type": "markdown",
   "metadata": {},
   "source": [
    "# Task 4\n",
    "Three initial weights have to be used (all one, all zero, randomly initialized with seed\n",
    "fixed). For all of these three cases vary the learning rate between 0.1 and 1 with step size\n",
    "0.1. Create a table which should contain your learning rate, number of iterations for one\n",
    "at a time and batch Perceptron for all of the three initial weights. You also have to create\n",
    "a bar chart visualizing your table data."
   ]
  },
  {
   "cell_type": "markdown",
   "metadata": {},
   "source": [
    "### All One :::: One At a Time  with lr =0.1- 1.1"
   ]
  },
  {
   "cell_type": "code",
   "execution_count": 10,
   "metadata": {},
   "outputs": [],
   "source": [
    "## One at A Time\n",
    "one_at_ones = []\n",
    "one_at_alpha = []\n",
    "for alpha in np.arange(0.1, 1.1, 0.1):\n",
    "    w = np.ones((1,len(training_set)))\n",
    "    counter = 0\n",
    "    flag = 0\n",
    "    g = 0\n",
    "    for i in range(250):\n",
    "        counter = counter+1\n",
    "        flag = 0\n",
    "        for i in range(len(training_set)):\n",
    "            g = np.dot(y[i, :],w.T)\n",
    "            if g<=0:\n",
    "                w = w+alpha*y[i, :]\n",
    "            else:\n",
    "                flag = flag+1\n",
    "        if flag==len(training_set):\n",
    "            break\n",
    "    one_at_alpha.append(alpha)\n",
    "    one_at_ones.append(counter)"
   ]
  },
  {
   "cell_type": "markdown",
   "metadata": {},
   "source": [
    "## All Ones :::: Many At a Time  with lr =0.1- 1.1"
   ]
  },
  {
   "cell_type": "code",
   "execution_count": 11,
   "metadata": {},
   "outputs": [
    {
     "data": {
      "text/html": [
       "<div>\n",
       "<style scoped>\n",
       "    .dataframe tbody tr th:only-of-type {\n",
       "        vertical-align: middle;\n",
       "    }\n",
       "\n",
       "    .dataframe tbody tr th {\n",
       "        vertical-align: top;\n",
       "    }\n",
       "\n",
       "    .dataframe thead th {\n",
       "        text-align: right;\n",
       "    }\n",
       "</style>\n",
       "<table border=\"1\" class=\"dataframe\">\n",
       "  <thead>\n",
       "    <tr style=\"text-align: right;\">\n",
       "      <th></th>\n",
       "      <th>Alpha (Learning Rate)</th>\n",
       "      <th>One at a Time</th>\n",
       "      <th>Many at a Time</th>\n",
       "    </tr>\n",
       "  </thead>\n",
       "  <tbody>\n",
       "    <tr>\n",
       "      <th>0</th>\n",
       "      <td>0.1</td>\n",
       "      <td>250</td>\n",
       "      <td>250</td>\n",
       "    </tr>\n",
       "    <tr>\n",
       "      <th>1</th>\n",
       "      <td>0.2</td>\n",
       "      <td>2</td>\n",
       "      <td>250</td>\n",
       "    </tr>\n",
       "    <tr>\n",
       "      <th>2</th>\n",
       "      <td>0.3</td>\n",
       "      <td>250</td>\n",
       "      <td>250</td>\n",
       "    </tr>\n",
       "    <tr>\n",
       "      <th>3</th>\n",
       "      <td>0.4</td>\n",
       "      <td>250</td>\n",
       "      <td>250</td>\n",
       "    </tr>\n",
       "    <tr>\n",
       "      <th>4</th>\n",
       "      <td>0.5</td>\n",
       "      <td>250</td>\n",
       "      <td>250</td>\n",
       "    </tr>\n",
       "    <tr>\n",
       "      <th>5</th>\n",
       "      <td>0.6</td>\n",
       "      <td>250</td>\n",
       "      <td>250</td>\n",
       "    </tr>\n",
       "    <tr>\n",
       "      <th>6</th>\n",
       "      <td>0.7</td>\n",
       "      <td>250</td>\n",
       "      <td>250</td>\n",
       "    </tr>\n",
       "    <tr>\n",
       "      <th>7</th>\n",
       "      <td>0.8</td>\n",
       "      <td>250</td>\n",
       "      <td>250</td>\n",
       "    </tr>\n",
       "    <tr>\n",
       "      <th>8</th>\n",
       "      <td>0.9</td>\n",
       "      <td>250</td>\n",
       "      <td>250</td>\n",
       "    </tr>\n",
       "    <tr>\n",
       "      <th>9</th>\n",
       "      <td>1.0</td>\n",
       "      <td>250</td>\n",
       "      <td>250</td>\n",
       "    </tr>\n",
       "  </tbody>\n",
       "</table>\n",
       "</div>"
      ],
      "text/plain": [
       "   Alpha (Learning Rate)  One at a Time  Many at a Time\n",
       "0                    0.1            250             250\n",
       "1                    0.2              2             250\n",
       "2                    0.3            250             250\n",
       "3                    0.4            250             250\n",
       "4                    0.5            250             250\n",
       "5                    0.6            250             250\n",
       "6                    0.7            250             250\n",
       "7                    0.8            250             250\n",
       "8                    0.9            250             250\n",
       "9                    1.0            250             250"
      ]
     },
     "execution_count": 11,
     "metadata": {},
     "output_type": "execute_result"
    }
   ],
   "source": [
    "## Many at A Time\n",
    "many_at_ones = []\n",
    "for alpha in np.arange(0.1, 1.1, 0.1):\n",
    "    w2 = np.ones((1, len(training_set)))\n",
    "    alpha2 = 0.1\n",
    "    flag2 = 0\n",
    "    counter2 = 0\n",
    "    tmp = 0\n",
    "    g2 = 0\n",
    "    while counter2<250:\n",
    "        counter2 = counter2+1\n",
    "        flag2 = 0\n",
    "        tmp = 0\n",
    "        for i in range(len(training_set)):\n",
    "            g2 = np.dot(y[i, :], w2.T)\n",
    "            if g2<=0:\n",
    "                tmp = tmp + y[i, :]\n",
    "            else:\n",
    "                flag2 = flag2+1\n",
    "        if flag2==len(training_set):\n",
    "            break\n",
    "        w2 = w2+alpha*tmp\n",
    "    many_at_ones.append(counter2)\n",
    "df = pd.DataFrame({\"Alpha (Learning Rate)\":one_at_alpha, \"One at a Time\":one_at_ones, \"Many at a Time\":many_at_ones})\n",
    "df"
   ]
  },
  {
   "cell_type": "markdown",
   "metadata": {},
   "source": [
    "## Plotting all one with lr=0.1-1"
   ]
  },
  {
   "cell_type": "code",
   "execution_count": 12,
   "metadata": {},
   "outputs": [
    {
     "data": {
      "image/png": "[encoded data removed]",
      "text/plain": [
       "<Figure size 576x288 with 1 Axes>"
      ]
     },
     "metadata": {
      "needs_background": "light"
     },
     "output_type": "display_data"
    }
   ],
   "source": [
    "\n",
    "labels = ['0.1', '0.2', '0.3', '0.4', '0.5', '0.6', '0.7', '0.8', '0.9', '1.0']\n",
    "one_at_time_ones = one_at_ones\n",
    "many_at_time_ones = many_at_ones\n",
    "\n",
    "x = np.arange(len(labels))  # the label locations\n",
    "width = 40/100  # the width of the bars\n",
    "\n",
    "fig, ax = plt.subplots()\n",
    "rects1 = ax.bar(x - width/2, one_at_time_ones, width, label='One at a time')\n",
    "rects2 = ax.bar(x + width/2, many_at_time_ones, width, label='Many at a time')\n",
    "\n",
    "# Add some text for labels, title and custom x-axis tick labels, etc.\n",
    "ax.set_ylabel('No of iterations')\n",
    "ax.set_xlabel('Learning Rate')\n",
    "ax.set_title('Perceptron Comparison')\n",
    "ax.set_xticks(x)\n",
    "ax.set_xticklabels(labels)\n",
    "ax.legend()\n",
    "\n",
    "\n",
    "\n",
    "\n",
    "plt.rcParams[\"figure.figsize\"] = (10,5)\n",
    "\n",
    "plt.show()"
   ]
  },
  {
   "cell_type": "markdown",
   "metadata": {},
   "source": [
    "## All Zeros :::: One At a Time  with lr =0.1- 1.1"
   ]
  },
  {
   "cell_type": "code",
   "execution_count": 13,
   "metadata": {},
   "outputs": [],
   "source": [
    "## One at A Time\n",
    "one_at_zeros = []\n",
    "one_at_alpha = []\n",
    "for alpha in np.arange(0.1, 1.1, 0.1):\n",
    "    w = np.zeros((1,len(training_set)))\n",
    "    counter = 0\n",
    "    flag = 0\n",
    "    g = 0\n",
    "    for i in range(250):\n",
    "        counter = counter+1\n",
    "        flag = 0\n",
    "        for i in range(len(training_set)):\n",
    "            g = np.dot(y[i, :],w.T)\n",
    "            if g<=0:\n",
    "                w = w+alpha*y[i, :]\n",
    "            else:\n",
    "                flag = flag+1\n",
    "        if flag==len(training_set):\n",
    "            break\n",
    "    one_at_alpha.append(alpha)\n",
    "    one_at_zeros.append(counter)\n",
    "\n",
    "\n"
   ]
  },
  {
   "cell_type": "markdown",
   "metadata": {},
   "source": [
    "## All Zeros :::: Many At a Time  with lr =0.1- 1.1"
   ]
  },
  {
   "cell_type": "code",
   "execution_count": 14,
   "metadata": {},
   "outputs": [
    {
     "data": {
      "text/html": [
       "<div>\n",
       "<style scoped>\n",
       "    .dataframe tbody tr th:only-of-type {\n",
       "        vertical-align: middle;\n",
       "    }\n",
       "\n",
       "    .dataframe tbody tr th {\n",
       "        vertical-align: top;\n",
       "    }\n",
       "\n",
       "    .dataframe thead th {\n",
       "        text-align: right;\n",
       "    }\n",
       "</style>\n",
       "<table border=\"1\" class=\"dataframe\">\n",
       "  <thead>\n",
       "    <tr style=\"text-align: right;\">\n",
       "      <th></th>\n",
       "      <th>Alpha (LR)</th>\n",
       "      <th>One at a Time</th>\n",
       "      <th>Many at a Time</th>\n",
       "    </tr>\n",
       "  </thead>\n",
       "  <tbody>\n",
       "    <tr>\n",
       "      <th>0</th>\n",
       "      <td>0.1</td>\n",
       "      <td>250</td>\n",
       "      <td>200</td>\n",
       "    </tr>\n",
       "    <tr>\n",
       "      <th>1</th>\n",
       "      <td>0.2</td>\n",
       "      <td>250</td>\n",
       "      <td>200</td>\n",
       "    </tr>\n",
       "    <tr>\n",
       "      <th>2</th>\n",
       "      <td>0.3</td>\n",
       "      <td>250</td>\n",
       "      <td>200</td>\n",
       "    </tr>\n",
       "    <tr>\n",
       "      <th>3</th>\n",
       "      <td>0.4</td>\n",
       "      <td>250</td>\n",
       "      <td>200</td>\n",
       "    </tr>\n",
       "    <tr>\n",
       "      <th>4</th>\n",
       "      <td>0.5</td>\n",
       "      <td>250</td>\n",
       "      <td>200</td>\n",
       "    </tr>\n",
       "    <tr>\n",
       "      <th>5</th>\n",
       "      <td>0.6</td>\n",
       "      <td>250</td>\n",
       "      <td>200</td>\n",
       "    </tr>\n",
       "    <tr>\n",
       "      <th>6</th>\n",
       "      <td>0.7</td>\n",
       "      <td>250</td>\n",
       "      <td>200</td>\n",
       "    </tr>\n",
       "    <tr>\n",
       "      <th>7</th>\n",
       "      <td>0.8</td>\n",
       "      <td>250</td>\n",
       "      <td>200</td>\n",
       "    </tr>\n",
       "    <tr>\n",
       "      <th>8</th>\n",
       "      <td>0.9</td>\n",
       "      <td>250</td>\n",
       "      <td>200</td>\n",
       "    </tr>\n",
       "    <tr>\n",
       "      <th>9</th>\n",
       "      <td>1.0</td>\n",
       "      <td>250</td>\n",
       "      <td>200</td>\n",
       "    </tr>\n",
       "  </tbody>\n",
       "</table>\n",
       "</div>"
      ],
      "text/plain": [
       "   Alpha (LR)  One at a Time  Many at a Time\n",
       "0         0.1            250             200\n",
       "1         0.2            250             200\n",
       "2         0.3            250             200\n",
       "3         0.4            250             200\n",
       "4         0.5            250             200\n",
       "5         0.6            250             200\n",
       "6         0.7            250             200\n",
       "7         0.8            250             200\n",
       "8         0.9            250             200\n",
       "9         1.0            250             200"
      ]
     },
     "execution_count": 14,
     "metadata": {},
     "output_type": "execute_result"
    }
   ],
   "source": [
    "## Many at A Time\n",
    "many_at_zeros = []\n",
    "for alpha in np.arange(0.1, 1.1, 0.1):\n",
    "    w2 = np.zeros((1, len(training_set)))\n",
    "    alpha2 = 0.1\n",
    "    flag2 = 0\n",
    "    counter2 = 0\n",
    "    tmp = 0\n",
    "    g2 = 0\n",
    "    for i in range(200):\n",
    "        counter2 = counter2+1\n",
    "        flag2 = 0\n",
    "        tmp = 0\n",
    "        for i in range(len(training_set)):\n",
    "            g2 = np.dot(y[i, :], w2.T)\n",
    "            if g2<=0:\n",
    "                tmp = tmp + y[i, :]\n",
    "            else:\n",
    "                flag2 = flag2+1\n",
    "        if flag2==len(training_set):\n",
    "            break\n",
    "        w2 = w2+alpha*tmp\n",
    "    many_at_zeros.append(counter2)\n",
    "df = pd.DataFrame({\"Alpha (LR)\":one_at_alpha, \"One at a Time\":one_at_zeros, \"Many at a Time\":many_at_zeros})\n",
    "df"
   ]
  },
  {
   "cell_type": "markdown",
   "metadata": {},
   "source": [
    "## Plotting all zeros with lr=0.1-1"
   ]
  },
  {
   "cell_type": "code",
   "execution_count": 15,
   "metadata": {},
   "outputs": [
    {
     "data": {
      "image/png": "[encoded data removed]",
      "text/plain": [
       "<Figure size 720x360 with 1 Axes>"
      ]
     },
     "metadata": {
      "needs_background": "light"
     },
     "output_type": "display_data"
    }
   ],
   "source": [
    "labels = ['0.1', '0.2', '0.3', '0.4', '0.5', '0.6', '0.7', '0.8', '0.9', '1.0']\n",
    "one_at_time_zeros = one_at_zeros\n",
    "many_at_time_zeros = many_at_zeros\n",
    "\n",
    "x = np.arange(len(labels))  # the label locations\n",
    "width = 40/100  # the width of the bars\n",
    "\n",
    "fig, ax = plt.subplots()\n",
    "rects1 = ax.bar(x - width/2, one_at_time_zeros, width, label='One at a time')\n",
    "rects2 = ax.bar(x + width/2, many_at_time_zeros, width, label='Many at a time')\n",
    "\n",
    "# Add some text for labels, title and custom x-axis tick labels, etc.\n",
    "ax.set_ylabel('No of iterations')\n",
    "ax.set_xlabel('Learning Rate')\n",
    "ax.set_title('Perceptron Comparison')\n",
    "ax.set_xticks(x)\n",
    "ax.set_xticklabels(labels)\n",
    "ax.legend()\n",
    "\n",
    "\n",
    "plt.rcParams[\"figure.figsize\"] = (10,7)\n",
    "\n",
    "plt.show()"
   ]
  },
  {
   "cell_type": "markdown",
   "metadata": {},
   "source": [
    "### Randomly Initialized with Seed Fixed"
   ]
  },
  {
   "cell_type": "code",
   "execution_count": 15,
   "metadata": {},
   "outputs": [
    {
     "name": "stdout",
     "output_type": "stream",
     "text": [
      "[0.1, 0.2, 0.30000000000000004, 0.4, 0.5, 0.6, 0.7000000000000001, 0.8, 0.9, 1.0]\n",
      "[97, 95, 93, 101, 106, 113, 94, 113, 108, 101]\n"
     ]
    },
    {
     "data": {
      "text/html": [
       "<div>\n",
       "<style scoped>\n",
       "    .dataframe tbody tr th:only-of-type {\n",
       "        vertical-align: middle;\n",
       "    }\n",
       "\n",
       "    .dataframe tbody tr th {\n",
       "        vertical-align: top;\n",
       "    }\n",
       "\n",
       "    .dataframe thead th {\n",
       "        text-align: right;\n",
       "    }\n",
       "</style>\n",
       "<table border=\"1\" class=\"dataframe\">\n",
       "  <thead>\n",
       "    <tr style=\"text-align: right;\">\n",
       "      <th></th>\n",
       "      <th>Alpha (LR)</th>\n",
       "      <th>One at a Time</th>\n",
       "      <th>Many at a Time</th>\n",
       "    </tr>\n",
       "  </thead>\n",
       "  <tbody>\n",
       "    <tr>\n",
       "      <th>0</th>\n",
       "      <td>0.1</td>\n",
       "      <td>97</td>\n",
       "      <td>84</td>\n",
       "    </tr>\n",
       "    <tr>\n",
       "      <th>1</th>\n",
       "      <td>0.2</td>\n",
       "      <td>95</td>\n",
       "      <td>91</td>\n",
       "    </tr>\n",
       "    <tr>\n",
       "      <th>2</th>\n",
       "      <td>0.3</td>\n",
       "      <td>93</td>\n",
       "      <td>117</td>\n",
       "    </tr>\n",
       "    <tr>\n",
       "      <th>3</th>\n",
       "      <td>0.4</td>\n",
       "      <td>101</td>\n",
       "      <td>133</td>\n",
       "    </tr>\n",
       "    <tr>\n",
       "      <th>4</th>\n",
       "      <td>0.5</td>\n",
       "      <td>106</td>\n",
       "      <td>90</td>\n",
       "    </tr>\n",
       "    <tr>\n",
       "      <th>5</th>\n",
       "      <td>0.6</td>\n",
       "      <td>113</td>\n",
       "      <td>105</td>\n",
       "    </tr>\n",
       "    <tr>\n",
       "      <th>6</th>\n",
       "      <td>0.7</td>\n",
       "      <td>94</td>\n",
       "      <td>88</td>\n",
       "    </tr>\n",
       "    <tr>\n",
       "      <th>7</th>\n",
       "      <td>0.8</td>\n",
       "      <td>113</td>\n",
       "      <td>138</td>\n",
       "    </tr>\n",
       "    <tr>\n",
       "      <th>8</th>\n",
       "      <td>0.9</td>\n",
       "      <td>108</td>\n",
       "      <td>138</td>\n",
       "    </tr>\n",
       "    <tr>\n",
       "      <th>9</th>\n",
       "      <td>1.0</td>\n",
       "      <td>101</td>\n",
       "      <td>150</td>\n",
       "    </tr>\n",
       "  </tbody>\n",
       "</table>\n",
       "</div>"
      ],
      "text/plain": [
       "   Alpha (LR)  One at a Time  Many at a Time\n",
       "0         0.1             97              84\n",
       "1         0.2             95              91\n",
       "2         0.3             93             117\n",
       "3         0.4            101             133\n",
       "4         0.5            106              90\n",
       "5         0.6            113             105\n",
       "6         0.7             94              88\n",
       "7         0.8            113             138\n",
       "8         0.9            108             138\n",
       "9         1.0            101             150"
      ]
     },
     "execution_count": 15,
     "metadata": {},
     "output_type": "execute_result"
    }
   ],
   "source": [
    "## One at A Time\n",
    "one_at_random = []\n",
    "one_at_alpha = []\n",
    "for alpha in np.arange(0.1, 1.1, 0.1):\n",
    "    np.random.seed(10)\n",
    "    w = np.random.random((1,len(training_set)))\n",
    "    counter = 0\n",
    "    flag = 0\n",
    "    g = 0\n",
    "    for i in range(250):\n",
    "        counter = counter+1\n",
    "        flag = 0\n",
    "        for i in range(len(training_set)):\n",
    "            g = np.dot(y[i, :],w.T)\n",
    "            if g<=0:\n",
    "                w = w+alpha*y[i, :]\n",
    "            else:\n",
    "                flag = flag+1\n",
    "        if flag==len(training_set):\n",
    "            break\n",
    "    one_at_alpha.append(alpha)\n",
    "    one_at_random.append(counter)\n",
    "\n",
    "    \n",
    "print(one_at_alpha)\n",
    "print(one_at_random)\n",
    "## Many at A Time\n",
    "many_at_random = []\n",
    "for alpha in np.arange(0.1, 1.1, 0.1):\n",
    "    np.random.seed(10)\n",
    "    w2 = np.random.random((1, len(training_set)))\n",
    "    alpha2 = 0.1\n",
    "    flag2 = 0\n",
    "    counter2 = 0\n",
    "    tmp = 0\n",
    "    g2 = 0\n",
    "    for i in range(200):\n",
    "        counter2 = counter2+1\n",
    "        flag2 = 0\n",
    "        tmp = 0\n",
    "        for i in range(len(training_set)):\n",
    "            g2 = np.dot(y[i, :], w2.T)\n",
    "            if g2<=0:\n",
    "                tmp = tmp + y[i, :]\n",
    "            else:\n",
    "                flag2 = flag2+1\n",
    "        if flag2==len(training_set):\n",
    "            break\n",
    "        w2 = w2+alpha*tmp\n",
    "    many_at_random.append(counter2)\n",
    "df = pd.DataFrame({\"Alpha (LR)\":one_at_alpha, \"One at a Time\":one_at_random, \"Many at a Time\":many_at_random})\n",
    "df"
   ]
  },
  {
   "cell_type": "code",
   "execution_count": 16,
   "metadata": {},
   "outputs": [
    {
     "data": {
      "image/png": "[encoded data removed]",
      "text/plain": [
       "<Figure size 720x504 with 1 Axes>"
      ]
     },
     "metadata": {
      "needs_background": "light"
     },
     "output_type": "display_data"
    }
   ],
   "source": [
    "labels = ['0.1', '0.2', '0.3', '0.4', '0.5', '0.6', '0.7', '0.8', '0.9', '1.0']\n",
    "one_at_time_random = one_at_random\n",
    "many_at_time_random = many_at_random\n",
    "\n",
    "x = np.arange(len(labels))  # the label locations\n",
    "width = 40/100  # the width of the bars\n",
    "\n",
    "fig, ax = plt.subplots()\n",
    "rects1 = ax.bar(x - width/2, one_at_time_random, width, label='One at a time')\n",
    "rects2 = ax.bar(x + width/2, many_at_time_random, width, label='Many at a time')\n",
    "\n",
    "# Add some text for labels, title and custom x-axis tick labels, etc.\n",
    "ax.set_ylabel('No of iterations')\n",
    "ax.set_xlabel('Learning Rate')\n",
    "ax.set_title('Perceptron Comparison')\n",
    "ax.set_xticks(x)\n",
    "ax.set_xticklabels(labels)\n",
    "ax.legend()\n",
    "\n",
    "\n",
    "\n",
    "\n",
    "\n",
    "plt.rcParams[\"figure.figsize\"] = (10,5)\n",
    "\n",
    "plt.show()"
   ]
  },
  {
   "cell_type": "markdown",
   "metadata": {},
   "source": [
    "# Questions\n",
    "Address these following questions:\n",
    "\n",
    "a. In task 2, why do we need to take the sample points to a high dimension?\n",
    "\n",
    "b. In each of the three initial weight cases and for each learning rate, how many updates \n",
    "does the algorithm take before converging?"
   ]
  },
  {
   "cell_type": "markdown",
   "metadata": {},
   "source": [
    "# Answers"
   ]
  },
  {
   "cell_type": "markdown",
   "metadata": {},
   "source": [
    "A. We need to take sample points in a higher dimension\n",
    "because when datasets are linear, the decision boundary\n",
    "will work perfectly. If the data is non linear, we will not\n",
    "get the correct hyperplane. Also, they are not linearly\n",
    "separable. For making these points linearly separable we\n",
    "need to take it to a higher dimension.\n",
    "\n",
    "\n",
    "B. In each of the three initial weight cases for each learning\n",
    "rate the number of updates the algorithm takes before\n",
    "converging is shown in Table I, II and III. Also Figure\n",
    "3, 4 and 5 shows the visualization of the results"
   ]
  },
  {
   "cell_type": "code",
   "execution_count": null,
   "metadata": {},
   "outputs": [],
   "source": []
  },
  {
   "cell_type": "code",
   "execution_count": null,
   "metadata": {},
   "outputs": [],
   "source": []
  },
  {
   "cell_type": "code",
   "execution_count": null,
   "metadata": {},
   "outputs": [],
   "source": []
  },
  {
   "cell_type": "code",
   "execution_count": null,
   "metadata": {},
   "outputs": [],
   "source": []
  },
  {
   "cell_type": "code",
   "execution_count": null,
   "metadata": {},
   "outputs": [],
   "source": []
  },
  {
   "cell_type": "code",
   "execution_count": null,
   "metadata": {},
   "outputs": [],
   "source": []
  },
  {
   "cell_type": "code",
   "execution_count": null,
   "metadata": {},
   "outputs": [],
   "source": []
  },
  {
   "cell_type": "code",
   "execution_count": null,
   "metadata": {},
   "outputs": [],
   "source": []
  },
  {
   "cell_type": "code",
   "execution_count": null,
   "metadata": {},
   "outputs": [],
   "source": [
    "\n"
   ]
  }
 ],
 "metadata": {
  "kernelspec": {
   "display_name": "Python 3",
   "language": "python",
   "name": "python3"
  },
  "language_info": {
   "codemirror_mode": {
    "name": "ipython",
    "version": 3
   },
   "file_extension": ".py",
   "mimetype": "text/x-python",
   "name": "python",
   "nbconvert_exporter": "python",
   "pygments_lexer": "ipython3",
   "version": "3.8.5"
  }
 },
 "nbformat": 4,
 "nbformat_minor": 4
}
