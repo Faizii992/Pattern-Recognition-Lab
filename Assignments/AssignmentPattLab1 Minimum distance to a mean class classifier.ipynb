{
 "cells": [
  {
   "cell_type": "markdown",
   "metadata": {},
   "source": [
    "# IMPORTING NECESSARY  DEPENDENCIES(LIBRARIES)"
   ]
  },
  {
   "cell_type": "code",
   "execution_count": 1,
   "metadata": {},
   "outputs": [],
   "source": [
    "import numpy as np\n",
    "import pandas as pd\n",
    "import csv\n",
    "import matplotlib.pyplot as plt\n",
    "from sklearn.metrics import accuracy_score"
   ]
  },
  {
   "cell_type": "markdown",
   "metadata": {},
   "source": [
    "# TASK 1 :\n",
    "Plot all sample points (train data) from both classes, but samples from the same class should have the same color and marker."
   ]
  },
  {
   "cell_type": "code",
   "execution_count": 2,
   "metadata": {},
   "outputs": [
    {
     "name": "stdout",
     "output_type": "stream",
     "text": [
      "Numeric Visualization of Training Set: \n",
      "    0  1  2\n",
      "0   2  2  1\n",
      "1   3  1  1\n",
      "2  -4  3  2\n",
      "3   3  3  1\n",
      "4  -1 -3  1\n",
      "5   2  6  2\n",
      "6   4  2  1\n",
      "7  -2 -2  1\n",
      "8   0  0  2\n",
      "9  -2  2  2\n",
      "10 -1 -1  2\n",
      "11 -4  2  2\n"
     ]
    }
   ],
   "source": [
    "training_set = []\n",
    "training_set = pd.read_csv('train.txt',sep=\" \",header = None)\n",
    "print('Numeric Visualization of Training Set: ')\n",
    "print(training_set)\n",
    "training_set=training_set.to_numpy()"
   ]
  },
  {
   "cell_type": "code",
   "execution_count": 3,
   "metadata": {},
   "outputs": [
    {
     "name": "stdout",
     "output_type": "stream",
     "text": [
      "\n",
      "First Training Class ::\n",
      "[[ 2  2]\n",
      " [ 3  1]\n",
      " [ 3  3]\n",
      " [-1 -3]\n",
      " [ 4  2]\n",
      " [-2 -2]]\n",
      "\n",
      "Second Training Class ::\n",
      "[[-4  3]\n",
      " [ 2  6]\n",
      " [ 0  0]\n",
      " [-2  2]\n",
      " [-1 -1]\n",
      " [-4  2]]\n"
     ]
    }
   ],
   "source": [
    "m = []\n",
    "n = []\n",
    "for data_class in training_set:\n",
    "    if data_class[2]==1:\n",
    "        m.append([data_class[0], data_class[1]])\n",
    "    elif data_class[2]==2:\n",
    "        n.append([data_class[0], data_class[1]])\n",
    "        \n",
    "first_training_class,second_training_class = (np.array(m),np.array(n))\n",
    "print(\"\\nFirst Training Class ::\")\n",
    "print(first_training_class)\n",
    "print(\"\\nSecond Training Class ::\")\n",
    "print(second_training_class)\n"
   ]
  },
  {
   "cell_type": "code",
   "execution_count": 4,
   "metadata": {},
   "outputs": [
    {
     "data": {
      "image/png": "[encoded data removed]",
      "text/plain": [
       "<Figure size 432x288 with 1 Axes>"
      ]
     },
     "metadata": {
      "needs_background": "light"
     },
     "output_type": "display_data"
    }
   ],
   "source": [
    "plt.plot(first_training_class[:,0:1],first_training_class[:, 1:], linestyle = '', marker='o', color='r', label =\"Train Class 1\")\n",
    "plt.plot(second_training_class[:,0:1],second_training_class[:, 1:], linestyle = '', marker = '*', color = 'k', label =\"Train Class 2\")\n",
    "plt.legend()\n",
    "plt.show()"
   ]
  },
  {
   "cell_type": "markdown",
   "metadata": {},
   "source": [
    "# TASK 2: \n",
    "Using a minimum distance classifier with respect to ‘class mean’, classify the test data points by\n",
    "plotting them with the designated class-color but a different marker. Use the Linear Discriminant\n",
    "Function given below. Also, plot the class means.\n"
   ]
  },
  {
   "cell_type": "markdown",
   "metadata": {},
   "source": [
    "# \\begin{equation}\n",
    "g_i(X) = X^T  \\bar{_iY} - \\frac{1}{2} \\bar{_iY}^T \\bar{_iY}\n",
    "\\end{equation}"
   ]
  },
  {
   "cell_type": "code",
   "execution_count": 5,
   "metadata": {},
   "outputs": [
    {
     "name": "stdout",
     "output_type": "stream",
     "text": [
      "Numeric Visualization of Testing Set\n",
      "   0  1  2\n",
      "0 -1 -5  1\n",
      "1  3  2  1\n",
      "2 -2  1  2\n",
      "3  8  2  1\n",
      "4  6 -1  1\n",
      "5  0  2  1\n",
      "6 -3  0  2\n",
      "\n",
      "Features \n",
      "[[-1 -5]\n",
      " [ 3  2]\n",
      " [-2  1]\n",
      " [ 8  2]\n",
      " [ 6 -1]\n",
      " [ 0  2]\n",
      " [-3  0]]\n",
      "\n",
      "Labels \n",
      "[[1]\n",
      " [1]\n",
      " [2]\n",
      " [1]\n",
      " [1]\n",
      " [1]\n",
      " [2]]\n"
     ]
    }
   ],
   "source": [
    "testing_set = pd.read_csv('test.txt',sep=\" \",header = None)\n",
    "print('Numeric Visualization of Testing Set')\n",
    "print(testing_set)\n",
    "\n",
    "X_test,Y_test = (testing_set.iloc[:, [0,1]].values , testing_set.iloc[:, [2]].values)\n",
    "print('\\nFeatures ')\n",
    "print(X_test)\n",
    "print('\\nLabels ')\n",
    "print(Y_test)\n",
    "X_test=np.array(X_test)\n",
    "predicted_results=[]"
   ]
  },
  {
   "cell_type": "markdown",
   "metadata": {},
   "source": [
    "### Finding Class"
   ]
  },
  {
   "cell_type": "code",
   "execution_count": 6,
   "metadata": {},
   "outputs": [],
   "source": [
    "\n",
    "\n",
    "first_mean_class = np.array([0,0])\n",
    "second_mean_class = np.array([0,0])\n",
    "\n",
    "def class_determination(weight = np.array([])):    \n",
    "    g1 = (np.matmul(weight.T,first_mean_class))+0.5*(np.matmul(first_mean_class.T,first_mean_class))\n",
    "    g2 = (np.matmul(weight.T,second_mean_class))+0.5*(np.matmul(second_mean_class.T,second_mean_class))\n",
    "    \n",
    "    if(g1 >=g2):\n",
    "        predicted_results.extend([1])\n",
    "        return 1\n",
    "    else:\n",
    "        predicted_results.extend([2])\n",
    "        return 2\n",
    "\n",
    "    \n",
    "    \n",
    "first_mean_class[0],first_mean_class[1] = np.mean(first_training_class[:,0:1]),np.mean(first_training_class[:,1:])\n",
    "second_mean_class[0],second_mean_class[1] = np.mean(second_training_class[:,0:1]),np.mean(second_training_class[:,1:])\n",
    "\n"
   ]
  },
  {
   "cell_type": "code",
   "execution_count": null,
   "metadata": {},
   "outputs": [],
   "source": []
  },
  {
   "cell_type": "code",
   "execution_count": 7,
   "metadata": {},
   "outputs": [
    {
     "name": "stdout",
     "output_type": "stream",
     "text": [
      "[[-1 -5]\n",
      " [ 3  2]\n",
      " [ 8  2]\n",
      " [ 6 -1]]\n",
      "[[-2  1]\n",
      " [ 0  2]\n",
      " [-3  0]]\n"
     ]
    }
   ],
   "source": [
    "test_a = []\n",
    "test_b = []\n",
    "for i in range(len(X_test)):\n",
    "    if(class_determination(X_test[i])==1):\n",
    "        test_a.append([X_test[i][0],X_test[i][1]])\n",
    "    else:\n",
    "        test_b.append([X_test[i][0],X_test[i][1]])\n",
    "\n",
    "first_test_class = np.array(test_a)\n",
    "second_test_class = np.array(test_b)\n",
    "\n",
    "print(first_test_class)\n",
    "print(second_test_class)"
   ]
  },
  {
   "cell_type": "markdown",
   "metadata": {},
   "source": [
    "#### Plotting the Means of  \n",
    "#### 1) Training Dataset\n",
    "#### 2) Test Dataset"
   ]
  },
  {
   "cell_type": "code",
   "execution_count": 8,
   "metadata": {},
   "outputs": [
    {
     "data": {
      "image/png": "[encoded data removed]",
      "text/plain": [
       "<Figure size 432x288 with 1 Axes>"
      ]
     },
     "metadata": {
      "needs_background": "light"
     },
     "output_type": "display_data"
    }
   ],
   "source": [
    "plt.xlim(-5,9)\n",
    "plt.ylim(-9, 19)\n",
    "plt.rcParams[\"figure.figsize\"] = (10,4)\n",
    "plt.plot(first_training_class[:,0:1],first_training_class[:, 1:], linestyle = '', marker='o', color='r', label =\"Train Class 1\")\n",
    "plt.plot(second_training_class[:,0:1],second_training_class[:, 1:], linestyle = '', marker = '*', color = 'k', label =\"Train Class 2\")\n",
    "plt.plot(first_test_class[:,0:1],first_test_class[:, 1:], linestyle = '', marker='P', color='r', label =\"Test Class 1\")\n",
    "plt.plot(second_test_class[:,0:1],second_test_class[:, 1:], linestyle = '', marker = 'X', color = 'k', label =\"Test Class 2\")\n",
    "plt.plot(first_mean_class[0],first_mean_class[1], linestyle = '', marker='1', color='r', label =\"Mean Class 1\")\n",
    "plt.plot(second_mean_class[0],second_mean_class[1], linestyle = '', marker = 's', color = 'k', label =\"Mean Class 2\")\n",
    "plt.legend()\n",
    "plt.show()"
   ]
  },
  {
   "cell_type": "markdown",
   "metadata": {},
   "source": [
    "# TASK 3 :\n",
    "Draw the decision boundary between the two classes.\n",
    "### Determining Line Equation\n",
    "\n"
   ]
  },
  {
   "cell_type": "markdown",
   "metadata": {},
   "source": [
    "###  $y=mx+c$ \n",
    "\n",
    "### $ m = (\\omega_1^T - \\omega_2^T)$\n",
    "\n",
    "### $c = 0.5 *  (\\omega_1^T\\omega_1 - \\omega_2^T\\omega_2)$"
   ]
  },
  {
   "cell_type": "code",
   "execution_count": 9,
   "metadata": {},
   "outputs": [],
   "source": [
    "mean_1 = np.array([[first_mean_class[0]], [second_mean_class[0]]])\n",
    "mean_2 = np.array([[first_mean_class[1]], [second_mean_class[1]]])\n",
    "\n",
    "\n",
    "x_values = []\n",
    "y_values = []\n",
    "rangez=np.arange(-5, 9, 0.5)\n",
    "for i in rangez:\n",
    "    y = (first_mean_class[0]-second_mean_class[0])*i-0.5*(np.dot(mean_1.T, mean_1))+0.5*(np.dot(mean_2.T, mean_2))\n",
    "    z = y/(first_mean_class[1]-second_mean_class[1])\n",
    "    x_values.append(i)\n",
    "    y_values.append(-z[0][0])"
   ]
  },
  {
   "cell_type": "code",
   "execution_count": 15,
   "metadata": {},
   "outputs": [
    {
     "data": {
      "image/png": "[encoded data removed]",
      "text/plain": [
       "<Figure size 1440x360 with 1 Axes>"
      ]
     },
     "metadata": {
      "needs_background": "light"
     },
     "output_type": "display_data"
    }
   ],
   "source": [
    "plt.xlim(-5,9)\n",
    "plt.ylim(-9, 19)\n",
    "plt.rcParams[\"figure.figsize\"] = (20,5)\n",
    "plt.plot(first_training_class[:,0:1],first_training_class[:, 1:], linestyle = '', marker='o', color='r', label =\"Train Class 1\")\n",
    "plt.plot(second_training_class[:,0:1],second_training_class[:, 1:], linestyle = '', marker = '*', color = 'k', label =\"Train Class 2\")\n",
    "plt.plot(first_test_class[:,0:1],first_test_class[:, 1:], linestyle = '', marker='P', color='r', label =\"Test Class 1\")\n",
    "plt.plot(second_test_class[:,0:1],second_test_class[:, 1:], linestyle = '', marker = 'X', color = 'k', label =\"Test Class 2\")\n",
    "plt.plot(first_mean_class[0],first_mean_class[1], linestyle = '', marker='1', color='r', label =\"Mean Class 1\")\n",
    "plt.plot(second_mean_class[0],second_mean_class[1], linestyle = '', marker = 's', color = 'k', label =\"Mean Class 2\")\n",
    "plt.plot(x_values, y_values, linestyle='-', color='r', label=\"Decision Boundary\")\n",
    "plt.legend()\n",
    "plt.show()"
   ]
  },
  {
   "cell_type": "markdown",
   "metadata": {},
   "source": [
    "# TASK 4:\n",
    "Calculation of accuracy"
   ]
  },
  {
   "cell_type": "code",
   "execution_count": 11,
   "metadata": {},
   "outputs": [
    {
     "name": "stdout",
     "output_type": "stream",
     "text": [
      "Accuracy =  0.8571428571428571\n"
     ]
    }
   ],
   "source": [
    "accuracy = accuracy_score(Y_test,predicted_results)\n",
    "print('Accuracy = ', accuracy)"
   ]
  },
  {
   "cell_type": "code",
   "execution_count": null,
   "metadata": {},
   "outputs": [],
   "source": []
  },
  {
   "cell_type": "code",
   "execution_count": null,
   "metadata": {},
   "outputs": [],
   "source": []
  },
  {
   "cell_type": "code",
   "execution_count": null,
   "metadata": {},
   "outputs": [],
   "source": []
  }
 ],
 "metadata": {
  "kernelspec": {
   "display_name": "Python 3",
   "language": "python",
   "name": "python3"
  },
  "language_info": {
   "codemirror_mode": {
    "name": "ipython",
    "version": 3
   },
   "file_extension": ".py",
   "mimetype": "text/x-python",
   "name": "python",
   "nbconvert_exporter": "python",
   "pygments_lexer": "ipython3",
   "version": "3.8.5"
  }
 },
 "nbformat": 4,
 "nbformat_minor": 4
}
